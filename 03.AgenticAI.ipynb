{
 "cells": [
  {
   "cell_type": "markdown",
   "metadata": {},
   "source": [
    "\n",
    "# 1. Strands를 활용한 Agentic AI 이해 \n",
    "\n",
    "**참조 사이트** : https://strandsagents.com/\n",
    "\n",
    "## 1.1 사전 준비사항\n",
    "\n",
    "- Python 3.8+ 설치\n",
    "- AWS CLI 설정 및 Bedrock 모델 액세스 권한\n",
    "- 기본적인 Python 프로그래밍 지식\n",
    "- AWS 서비스에 대한 기본 이해"
   ]
  },
  {
   "cell_type": "markdown",
   "metadata": {},
   "source": [
    "## 1.2 AWS Bedrock 설정 확인\n",
    "\n",
    "1. **AWS 콘솔에서 Bedrock 모델 access 선언**\n",
    "   - AWS 콘솔(https://console.aws.amazon.com) 접속\n",
    "\n",
    "2. **AWS 자격 증명 확인**\n",
    "   - AWS CLI 설치 확인: `aws --version`\n",
    "   - 자격 증명 설정 확인: `aws configure list`\n",
    "   - 필요시 자격 증명 설정: `aws configure`\n",
    "\n",
    "3. **권한 확인**\n",
    "   - IAM 콘솔에서 사용자/역할에 \"bedrock:InvokeModel\" 권한이 있는지 확인"
   ]
  },
  {
   "cell_type": "markdown",
   "metadata": {},
   "source": [
    "## 1.3 환경 설정\n",
    "\n",
    "먼저 필요한 패키지들을 설치하고 AWS 자격 증명을 설정합니다."
   ]
  },
  {
   "cell_type": "code",
   "execution_count": null,
   "metadata": {
    "collapsed": true,
    "jupyter": {
     "outputs_hidden": true
    },
    "scrolled": true
   },
   "outputs": [],
   "source": [
    "# 필요한 패키지 설치\n",
    "\n",
    "pkg_list=\"strands-agents strands-agents-tools strands-agents-builder boto3 requests\"\n",
    "! pip install --upgrade $pkg_list > /dev/null 2>&1\n",
    "! pip list | egrep 'strands|boto3|requests' "
   ]
  },
  {
   "cell_type": "markdown",
   "metadata": {},
   "source": [
    "## 1.4 프로그램 초기 선언\n",
    "- 초기 선언및 이 실습에 도움을 제공할 Helper 스크립트 정의"
   ]
  },
  {
   "cell_type": "code",
   "execution_count": null,
   "metadata": {},
   "outputs": [],
   "source": [
    "# 필요한 라이브러리 임포트\n",
    "import boto3\n",
    "import json\n",
    "import time\n",
    "from datetime import datetime\n",
    "from typing import Dict, List, Any\n",
    "from strands import Agent, tool \n",
    "from strands.models import BedrockModel\n",
    "\n",
    "# 프로그램의 시간측정을 위한 Class 선언 \n",
    "class Timer:\n",
    "    def __enter__(self):\n",
    "        self.start = time.time()\n",
    "        return self\n",
    "\n",
    "    def __exit__(self, *args):\n",
    "        print(\"\\n\\n------------------------------------------\")\n",
    "        print(f\"실행시간: {time.time() - self.start:.2f}초\")\n",
    "\n",
    "# --------------------------------------------------------------------\n",
    "# 현재 Note BooK에 Role이 선언되어 있는 경우 AWS 자격 증명 확인해야 하는 경우에 선언 \n",
    "# --------------------------------------------------------------------\n",
    "try:\n",
    "    session = boto3.Session()\n",
    "    credentials = session.get_credentials()\n",
    "    print(\"AWS 자격 증명 확인 완료\")\n",
    "    print(f\"리전: {session.region_name}\")\n",
    "except Exception as e:\n",
    "    print(f\"AWS 자격 증명 오류: {e}\")\n",
    "    print(\"AWS CLI를 사용하여 자격 증명을 설정해주세요: aws configure\")\n",
    "\n",
    "# 현재 리전 확인\n",
    "current_region = boto3.Session().region_name\n",
    "\n",
    "# --------------------------------------------------------------------\n",
    "# 직접 AWS 자격 증명 설정해야 하는경우 \n",
    "# --------------------------------------------------------------------\n",
    "# aws_access_key_id = ''             # <-- IAM 사용자의 Access key 를 입력한다.\n",
    "# aws_secret_access_key = ''         # <-- Secret Access key를 입력한다.\n",
    "# region_name='us-east-1'            # <-- 리전을 선언한다.\n",
    "\n",
    "# session = boto3.Session(\n",
    "#     aws_access_key_id=aws_access_key_id,\n",
    "#     aws_secret_access_key=aws_secret_access_key,\n",
    "#     region_name=region_name\n",
    "# )\n",
    "\n",
    "# --------------------------------------------------------------------\n",
    "# Bedrock Client 설정\n",
    "# --------------------------------------------------------------------\n",
    "bedrock = session.client(service_name='bedrock-runtime')\n",
    "bedrock2 = session.client('bedrock')\n",
    "\n",
    "# --------------------------------------------------------------------\n",
    "# Bedrock Model ID 설정\n",
    "# --------------------------------------------------------------------\n",
    "\n",
    "## 직접 모델을 지정할 경우, 리전 정확히 확인함.\n",
    "# bedrock_model_claude= \"us.anthropic.claude-3-7-sonnet-20250219-v1:0\"   # claude sonnet 사용할 경우 \n",
    "# bedrock_model_nova=\"amazon.nova-lite-v1:0\"                             # Nova lite mode 사용할 경우 \n",
    "\n",
    "# 현재 리전에 맞는 Model ID 자동 검색\n",
    "models = bedrock2.list_foundation_models()['modelSummaries']\n",
    "\n",
    "# Titan Embed Text V2\n",
    "# find_models = next((m for m in models if 'titan-embed-text-v2' in m['modelId'].lower()), None)\n",
    "# bedrock_model_titan_emb = find_models['modelId']\n",
    "# print(\"[Model ID] titan-embed-text-v2: \", bedrock_model_titan_emb)\n",
    "\n",
    "# Claude 3.5 haiku 의 버지니아 리전에 따른 Mode-ID확인   \n",
    "if current_region == 'us-east-1':\n",
    "    bedrock_model_haiku = \"us.anthropic.claude-3-5-haiku-20241022-v1:0\"\n",
    "else:\n",
    "    find_models = next((m for m in models if 'claude-3-5-haiku' in m['modelId'].lower()), None)\n",
    "    bedrock_model_haiku = find_models['modelId']\n",
    "\n",
    "# print(\"[Model ID] claude-3-5-haiku:\", bedrock_model_haiku)\n",
    "# print(\"[Current Region]:\", current_region)\n",
    "\n",
    "# 이 실습에서 사용하는 기본 모델 선언 \n",
    "base_model=bedrock_model_haiku\n"
   ]
  },
  {
   "cell_type": "markdown",
   "metadata": {},
   "source": [
    "---\n",
    "\n",
    "## 2. Strand Agent \n"
   ]
  },
  {
   "cell_type": "markdown",
   "metadata": {},
   "source": [
    "### 2.1 Stream & Non-stream 모드 선언 \n",
    "- Stream은 Agent에 요청하고 응답하는 단계에서 Strem 형식으로 메세지를 확인하는 모드 이며\n",
    "- Non-stream 모드는 Agent의 응답이 완성이 완료된 메세지만 받음.  "
   ]
  },
  {
   "cell_type": "markdown",
   "metadata": {
    "scrolled": true
   },
   "source": [
    "### 2.2 Stream mode Agent 선언및 Agent에 질의 \n"
   ]
  },
  {
   "cell_type": "code",
   "execution_count": null,
   "metadata": {
    "scrolled": true
   },
   "outputs": [],
   "source": [
    "# Stream 형식으로 모델 선언 \n",
    "streaming_bedrock_model = BedrockModel(\n",
    "    model_id=base_model,\n",
    "    temperature=0.3,\n",
    "    boto_session=session,\n",
    "    streaming=True,  # Stream 형식으로 출력할지 선택 \n",
    ")\n",
    "\n",
    "# Agent 생성및 초기화 \n",
    "stream_agent = Agent(model=streaming_bedrock_model)\n",
    "\n",
    "# Stream 형식으로 Agent 실행 \n",
    "with Timer():       # 실행 시간을 출력하기 위해서 사용 \n",
    "    stream_result=stream_agent(\"Stream mode로 실행한다는 것이 무엇인가요?\")"
   ]
  },
  {
   "cell_type": "markdown",
   "metadata": {},
   "source": [
    "### 2.2 Non-stream mode Agent 선언및 Agent에 질의 "
   ]
  },
  {
   "cell_type": "code",
   "execution_count": null,
   "metadata": {},
   "outputs": [],
   "source": [
    "# Non-Stream 형식으로 모델 선언 \n",
    "non_streaming_bedrock_model = BedrockModel(\n",
    "    model_id=base_model,\n",
    "    temperature=0.3,\n",
    "    boto_session=session,\n",
    "    streaming=False  # Non-Strem 형식으로 출력 \n",
    ")\n",
    "\n",
    "# Non-stream Agent 선언  \n",
    "non_stream_agent = Agent(model=non_streaming_bedrock_model)\n",
    "\n",
    "# Non-stream 형식으로 Agent 실행 \n",
    "with Timer(): non_stream_result=non_stream_agent(\"Stream mode로 반드시 수행해야 하나요?\")"
   ]
  },
  {
   "cell_type": "markdown",
   "metadata": {},
   "source": [
    "### 2.3 callback_handler 를 사용한 메세지 출력 제한\n",
    "- Agent가 실행중일 때 발생하는 메세지를 화면에 출력하지 않기 위한 방법"
   ]
  },
  {
   "cell_type": "code",
   "execution_count": null,
   "metadata": {},
   "outputs": [],
   "source": [
    "print(\"[ Agent 실행 ]\\n\")\n",
    "non_stream_agent = Agent(model=non_streaming_bedrock_model,callback_handler=None)\n",
    "\n",
    "with Timer(): non_stream_result=non_stream_agent(\"Stream mode로 반드시 수행해야 하나요?\")\n",
    "\n",
    "# Agent 실행후에 메세지를 출력함.\n",
    "print(\"\\n[ Agent 실행 메세지 출력 ]\\n\")\n",
    "print(non_stream_result)"
   ]
  },
  {
   "cell_type": "markdown",
   "metadata": {},
   "source": [
    "### 2.4 System prompt를 함께 사용한 agent 선언및 실행\n",
    "- 전문가 에이전트를 생성시 이용함"
   ]
  },
  {
   "cell_type": "code",
   "execution_count": null,
   "metadata": {
    "collapsed": true,
    "jupyter": {
     "outputs_hidden": true
    },
    "scrolled": true
   },
   "outputs": [],
   "source": [
    "agent_system = Agent(\n",
    "    model=streaming_bedrock_model,\n",
    "    system_prompt=\"\"\"\n",
    "    당신은 친근한 AWS 전문가입니다!\n",
    "    - 한국어로 쉽게 설명해주세요\n",
    "    - 실용적인 예시를 들어주세요  \n",
    "    - 이모지를 적절히 사용해주세요\n",
    "    \"\"\"\n",
    ")\n",
    "\n",
    "with Timer(): agent_system(\"AWS Lambda에서 VPC내에 RDS와 mysql로 연결하려면 어떻게 해야 할까요?\")"
   ]
  },
  {
   "cell_type": "markdown",
   "metadata": {},
   "source": [
    "### 2.5 채팅 방식으로 카페에서 커피 주문하기\n",
    "- 입력창이 보이면 요청하는 내용대로 주문을 해보세요. \n",
    "- 주문을 완료하면 'quit' 또는 'exit' 를 입려해서 종료하세요!"
   ]
  },
  {
   "cell_type": "code",
   "execution_count": null,
   "metadata": {},
   "outputs": [],
   "source": [
    "system_prompt=\"\"\"\n",
    "당신은 커피 주문 접수 전문가입니다. 고객의 주문을 받을 때:\n",
    "\n",
    "1. 고객의 음료 선호도, 사이즈, 옵션을 정확히 파악하세요\n",
    "2. 주문 내용에 대한 명확하고 간결한 요약을 제공하세요\n",
    "3. 각 음료의 특징과 추가 옵션을 상세히 설명하세요\n",
    "4. 친근하고 전문적인 톤으로 대화하며 체계적으로 정리하세요\n",
    "5. 최종 주문 확인과 예상 대기시간을 안내하세요\n",
    "6. 질문은 한가지씩 물어보세요.\n",
    "\n",
    "서비스 제약사항:\n",
    "- 실제 결제 정보나 개인정보를 요구하지 마세요\n",
    "- 알레르기 유발 가능 재료는 반드시 사전 고지하세요\n",
    "- 항상 고객의 건강상태나 카페인 민감도를 확인하세요\n",
    "- 미성년자에게는 카페인 함량이 높은 음료 주문 시 주의사항을 안내하세요\n",
    "\n",
    "주문 처리 절차:\n",
    "1. 인사 및 메뉴 안내: \"안녕하세요! 오늘 어떤 음료를 드시겠어요?\"\n",
    "2. 음료 선택: 기본 음료 종류 확인 (아메리카노, 라떼, 카푸치노 등)\n",
    "3. 사이즈 확인: Small(S), Medium(M), Large(L) 중 선택\n",
    "4. 옵션 확인: 샷 추가, 시럽, 우유 종류, 온도 등\n",
    "5. 알레르기 체크: \"혹시 알레르기가 있으신가요?\"\n",
    "6. 주문 요약: \"주문하신 내용을 확인해드릴게요...\"\n",
    "7. 결제 및 대기시간 안내: \"총 금액은 X원이고, 약 5분 정도 소요됩니다\"\n",
    "\"\"\"\n",
    "\n",
    "agent_system = Agent(\n",
    "    model=streaming_bedrock_model,\n",
    "    system_prompt=system_prompt\n",
    ")\n",
    "\n",
    "print(\"무엇을 주문하시겠습니까? \\n\")\n",
    "while True:\n",
    "    user_input = input(\"고객 (종료시 'quit' 입력)  : \")\n",
    "    if user_input.lower() in ['quit', 'exit']: break\n",
    "    response = agent_system(user_input)\n",
    "    print(\"\\n\")\n",
    "print(\"감사합니다. 음료가 제조될 때 까지 기다려주세요! \\n\")"
   ]
  },
  {
   "cell_type": "markdown",
   "metadata": {},
   "source": [
    "---\n",
    "## 3. Conversation History(대화기록)"
   ]
  },
  {
   "cell_type": "markdown",
   "metadata": {},
   "source": [
    "- Agent 는 기본적으로 수명주기 동안 대화내용을 기록하고 있다.이 대화의 기록은 Agent가 수명주기를 다하거나, LLM에 입력되는 토큰수에 제한이 발생하는 이벤트가 발생이되면 오래된 대화내용을 제거하여 대화 내용을 관리하게 된다.\n",
    "- 이 기본 기능은 대화 기록이 자동으로 유지되어 각 추론 시 모델에 전달되고, 도구 실행 컨텍스트로 사용되며, 컨텍스트 윈\n",
    "도우 오버플로우를 방지하도록 관리된다.\n",
    "- 기본 대화 기록 관리 외에도 Conversation Manager를 이용하여 대화내용을 관리할수 도 있다."
   ]
  },
  {
   "cell_type": "markdown",
   "metadata": {},
   "source": [
    "### 3.1 모델 초기화"
   ]
  },
  {
   "cell_type": "code",
   "execution_count": null,
   "metadata": {},
   "outputs": [],
   "source": [
    "conversation_bedrock_model = BedrockModel(\n",
    "    model_id=base_model,\n",
    "    boto_session=session,\n",
    "    streaming=True,  # Stream 형식으로 출력할지 선택 \n",
    ")"
   ]
  },
  {
   "cell_type": "markdown",
   "metadata": {},
   "source": [
    "### 3.2 Conversation History (대화기록)\n",
    "- Agent가 기본적으로 대화 내용을 기억하는지 확인 \n"
   ]
  },
  {
   "cell_type": "markdown",
   "metadata": {},
   "source": [
    "#### 3.2.1 Agent 생성\n",
    "- Agent를 생성하면 기본적으로 단기 기억저장소가 생기고 초기화 된다"
   ]
  },
  {
   "cell_type": "code",
   "execution_count": null,
   "metadata": {},
   "outputs": [],
   "source": [
    "agent_memory = Agent(\n",
    "    model=conversation_bedrock_model,\n",
    "    callback_handler=None,    \n",
    "    system_prompt=\"\"\"\n",
    "    당신은 라면에 달인 입니다.\n",
    "    - 한국어로 쉽게 설명해주세요\n",
    "    - 실용적인 예시를 들어주세요  \n",
    "    - 이모지를 적절히 사용해주세요\n",
    "    - 텍스트형식으로 출력해주세요!\n",
    "    \"\"\"\n",
    ")\n",
    "\n",
    "result=agent_memory(\"라면에 김치를 넣으면 어떨까요?\")\n",
    "print(f\"메세지 내용 : \\n{result.message}\\n\")\n"
   ]
  },
  {
   "cell_type": "markdown",
   "metadata": {},
   "source": [
    "- 기억력 테스트를 위해 반복하여 질문해본다."
   ]
  },
  {
   "cell_type": "code",
   "execution_count": null,
   "metadata": {
    "scrolled": true
   },
   "outputs": [],
   "source": [
    "result=agent_memory(\"라면에 파를 넣으면 어떨까요?\")\n",
    "print(f\"메세지 내용 : \\n{result.message}\\n\")"
   ]
  },
  {
   "cell_type": "markdown",
   "metadata": {
    "collapsed": true,
    "jupyter": {
     "outputs_hidden": true
    }
   },
   "source": [
    "#### 3.2.2 Agent에게 기억하고 있는 내용을 물어 본다."
   ]
  },
  {
   "cell_type": "code",
   "execution_count": null,
   "metadata": {},
   "outputs": [],
   "source": [
    "agent_memory(\"방금전에 내가 라면에 무엇을 넣어야 하는지 질문한 것들을 알려줘!\")"
   ]
  },
  {
   "cell_type": "markdown",
   "metadata": {
    "collapsed": true,
    "jupyter": {
     "outputs_hidden": true
    }
   },
   "source": [
    "#### 3.2.3 Agent가 기억하고 있는 모든 내용을 출력 한다. \n",
    "- 이때 agent.messages 를 사용한다. 이곳에는 모든 사용자와 어시스턴스의 메세지 뿐만 아니라 tool 사용과 결과에 대해서 기록이 이뤄진다."
   ]
  },
  {
   "cell_type": "code",
   "execution_count": null,
   "metadata": {
    "scrolled": true
   },
   "outputs": [],
   "source": [
    "# Agent의 모든 기억 내용을 확인 하기 위해 messages 를 확인 한다. \n",
    "print(\" ********  기억하고 있는 모든 대화 내용을 출력 *************\\n\")\n",
    "for item in agent_memory.messages:\n",
    "    print(item)\n",
    "print(\"\\n\")\n"
   ]
  },
  {
   "cell_type": "markdown",
   "metadata": {
    "collapsed": true,
    "jupyter": {
     "outputs_hidden": true
    }
   },
   "source": [
    "#### 3.2.4 Agent가 기억하고 있는 내용중에 질문만 출력해본다."
   ]
  },
  {
   "cell_type": "code",
   "execution_count": null,
   "metadata": {
    "scrolled": true
   },
   "outputs": [],
   "source": [
    "for text in agent_memory.messages :\n",
    "    if text['role'] == 'user' :\n",
    "        print(text)"
   ]
  },
  {
   "cell_type": "markdown",
   "metadata": {
    "scrolled": true
   },
   "source": [
    "### 3.3 Agent 초기화시 강제로 대화기록 삽입\n",
    "- Agent 초기 설정시 대화기록을 삽입하도록 한다. \n",
    "- 이 기능을 이용하면 대화 기록을 장기 저장소에 저장해놓았다가 필요할때 가져와 사용할 수 있도록 할수 있다."
   ]
  },
  {
   "cell_type": "markdown",
   "metadata": {
    "collapsed": true,
    "jupyter": {
     "outputs_hidden": true
    }
   },
   "source": [
    "#### 3.3.1 Agent 초기화 하면 기존 대화 기록이 사라지는 것을 확인 "
   ]
  },
  {
   "cell_type": "code",
   "execution_count": null,
   "metadata": {},
   "outputs": [],
   "source": [
    "agent_memory = Agent(\n",
    "    model=conversation_bedrock_model,\n",
    "    system_prompt=\"\"\"\n",
    "    당신은 라면에 달인 입니다.\n",
    "    - 한국어로 쉽게 설명해주세요\n",
    "    - 실용적인 예시를 들어주세요  \n",
    "    - 이모지를 적절히 사용해주세요\n",
    "    - 텍스트형식으로 출력해주세요!\n",
    "    \"\"\"\n",
    ")\n",
    "\n",
    "print(agent_memory.messages)"
   ]
  },
  {
   "cell_type": "markdown",
   "metadata": {
    "collapsed": true,
    "jupyter": {
     "outputs_hidden": true
    }
   },
   "source": [
    "#### 3.3.2 Agent를 초기화 하면서 대화 기록을 주입 "
   ]
  },
  {
   "cell_type": "code",
   "execution_count": null,
   "metadata": {},
   "outputs": [],
   "source": [
    "# 미리 대화기록을 작성한다.\n",
    "pre_conv_history=[\n",
    "    {'role': 'user', 'content': [{'text': '라면에 김치는 넣으면 어떨까요?'}]}, \n",
    "    {'role': 'assistant', 'content': [{'text': '# 라면에 김치 넣기 🍜 + 🥬\\n\\n라면에 김치를 넣는 것은 정말 훌륭한 조합이에요! 김치의 새콤함과 매콤함이 라면의 깊은 맛을 한층 더 끌어올려줍니다. 😋\\n\\n## 김치 라면의 장점 ✨\\n- 김치의 발효된 맛이 라면 국물에 깊이를 더해줍니다\\n- 아삭한 식감이 라면의 부드러운 면과 대비되어 식감이 풍부해져요\\n- 김치에 있는 유산균이 라면의 건강 밸런스를 약간 개선해줍니다\\n\\n## 실용적인 팁 💡\\n\\n1. **신김치 vs 묵은지**\\n   - 신김치: 아삭한 식감과 상큼한 맛을 원할 때 (국물 라면에 좋아요)\\n   - 묵은지: 깊은 감칠맛을 원할 때 (볶음라면에 특히 좋습니다)\\n\\n2. **넣는 타이밍**\\n   - 끓는 물에 면을 넣기 직전에 김치를 함께 넣으면 김치 맛이 국물에 잘 우러나요\\n   - 볶음라면은 면을 거의 다 볶은 후 마지막에 김치를 넣어 살짝만 볶아주세요\\n\\n3. **추천 조합 예시** 🌟\\n   - 신라면 + 잘 익은 배추김치 + 파 + 계란\\n   - 진라면 + 묵은지 + 베이컨 조각 + 치즈 한 장\\n   - 짜파게티 + 볶은 김치 (김치 볶음면의 정석!)\\n\\n김치 라면은 한국인의 소울푸드 조합이라고 할 수 있어요. 특히 해장이 필요할 때 더욱 빛을 발하는 조합입니다! 🔥'}]}   \n",
    "]\n",
    "\n",
    "# agent 생성시 대화 기록을 전달한다. \n",
    "agent_memory = Agent(\n",
    "    model=conversation_bedrock_model,\n",
    "    messages=pre_conv_history,\n",
    "    system_prompt=\"\"\"\n",
    "    당신은 라면에 달인 입니다.\n",
    "    - 한국어로 쉽게 설명해주세요\n",
    "    - 실용적인 예시를 들어주세요  \n",
    "    - 이모지를 적절히 사용해주세요\n",
    "    - 텍스트형식으로 출력해주세요!\n",
    "    \"\"\"\n",
    ")\n",
    "\n",
    "# 대화 내용을 기억하고 있는지 확인 \n",
    "agent_memory(\"방금전에 내가 라면에 무엇을 넣어야 하는지 질문한 것들을 알려줘!\")"
   ]
  },
  {
   "cell_type": "markdown",
   "metadata": {
    "collapsed": true,
    "jupyter": {
     "outputs_hidden": true
    }
   },
   "source": [
    "---\n",
    "## 4. Tool(도구) 사용 \n",
    "도구는 에이전트 기능을 확장하는 주요 메커니즘으로, 단순한 텍스트 생성을 넘어서 작업을 수행할 수 있게 해줍니다. 도구를 통해 에이전트는 외부 시스템과 상호작용하고, 데이터에 액세스하며, 환경을 조작할 수 있습니다.\n",
    "\n",
    "- 참조: https://strandsagents.com/latest/documentation/docs/user-guide/concepts/tools/example-tools-package/\n",
    "\n"
   ]
  },
  {
   "attachments": {},
   "cell_type": "markdown",
   "metadata": {},
   "source": [
    "### 4.1 모델 초기화"
   ]
  },
  {
   "cell_type": "code",
   "execution_count": null,
   "metadata": {},
   "outputs": [],
   "source": [
    "\n",
    "tooluse_bedrock_model = BedrockModel(\n",
    "    model_id=base_model,\n",
    "    boto_session=session,\n",
    "    streaming=True,  # Stream 형식으로 출력할지 선택 \n",
    ")"
   ]
  },
  {
   "attachments": {},
   "cell_type": "markdown",
   "metadata": {},
   "source": [
    "### 4.2 내장 Tool 구성 및 활용"
   ]
  },
  {
   "cell_type": "markdown",
   "metadata": {
    "jp-MarkdownHeadingCollapsed": true
   },
   "source": [
    "#### 4.2.1 Tool 사용 승인 선언\n",
    "\n",
    "일부 Tool 실행시 사용자 승인에 관련된 요청, 예를 들어 파일 저장관련 요청을 할경우 사용자의 입력 요청 ( Do you want to proceed with the file write? [y/*] ) 과 같은 처리시 사용자 요청을 자동처리 하기 위한 방법으로 운영체제 환경에 'BYPASS_TOOL_CONSENT' 값을 true로 선언한다."
   ]
  },
  {
   "cell_type": "code",
   "execution_count": null,
   "metadata": {},
   "outputs": [],
   "source": [
    "import os\n",
    "\n",
    "os.environ[\"BYPASS_TOOL_CONSENT\"] = \"false\""
   ]
  },
  {
   "attachments": {},
   "cell_type": "markdown",
   "metadata": {},
   "source": [
    "#### 4.2.2 계산기 도구 사용"
   ]
  },
  {
   "cell_type": "code",
   "execution_count": null,
   "metadata": {},
   "outputs": [],
   "source": [
    "from strands_tools import calculator\n",
    "\n",
    "# Agent tool 선언 \n",
    "tooluse_agent = Agent(\n",
    "    model=tooluse_bedrock_model,\n",
    "    tools=[calculator]\n",
    ")\n",
    "\n",
    "# Agent실행 \n",
    "tooluse_agent(\"42 ^ 9 값을 무엇이야? 한국어로 대답해줘!\")\n",
    "\n",
    "print(f\"\\n실행한 도구 이름: {tooluse_agent.tool_names}\")\n",
    "\n"
   ]
  },
  {
   "cell_type": "markdown",
   "metadata": {},
   "source": [
    "#### 4.2.3 WEB URL 검색 도구 사용"
   ]
  },
  {
   "cell_type": "code",
   "execution_count": null,
   "metadata": {},
   "outputs": [],
   "source": [
    "from strands_tools import http_request\n",
    "\n",
    "# Agent tool 선언 \n",
    "tooluse_agent = Agent(\n",
    "    model=tooluse_bedrock_model,\n",
    "    tools=[http_request]\n",
    ")\n",
    "\n",
    "# Agent실행 \n",
    "tooluse_agent(\"다음 https://docs.aws.amazon.com/ko_kr/bedrock/latest/userguide/model-access.html 사이트에 접속해서 정리 해줘!\")\n",
    "\n"
   ]
  },
  {
   "cell_type": "markdown",
   "metadata": {},
   "source": [
    "#### 4.2.3 여러 도구들 사용 - 파일 관리"
   ]
  },
  {
   "cell_type": "code",
   "execution_count": null,
   "metadata": {},
   "outputs": [],
   "source": [
    "from strands_tools import file_read, file_write,current_time\n",
    "import os\n",
    "\n",
    "os.environ[\"BYPASS_TOOL_CONSENT\"] = \"true\"\n",
    "\n",
    "# Agent tool 선언 \n",
    "tooluse_agent = Agent(\n",
    "    model=tooluse_bedrock_model,\n",
    "    tools=[file_read, file_write,current_time]\n",
    ")\n",
    "\n",
    "# tool사용을 요청하는 질의 \n",
    "tooluse_agent(\"현재 디렉토리 아래에 tooluse_agent.dat 파일이 있는지 확인해주고, 파일이 없으면 파일을 생성하고, 파일에 현재 서울 시간을 기록해줘!\")\n",
    "\n",
    "print(f\"\\n실행한 도구 이름: {tooluse_agent.tool_names}\")\n",
    "os.environ[\"BYPASS_TOOL_CONSENT\"] = \"false\""
   ]
  },
  {
   "cell_type": "markdown",
   "metadata": {},
   "source": [
    "### 4.3 python function 방식의 tool 생성\n",
    "- tool 을 function으로 설정함."
   ]
  },
  {
   "cell_type": "markdown",
   "metadata": {},
   "source": [
    "#### 4.3.1 가상 날씨 검색 function 생성"
   ]
  },
  {
   "cell_type": "code",
   "execution_count": null,
   "metadata": {},
   "outputs": [],
   "source": [
    "from strands import tool\n",
    "\n",
    "@tool\n",
    "def weather_forecast(city: str, days: int = 3) -> str:\n",
    "    \"\"\"도시의 날씨 예보 정보 가져옴.\n",
    "   \n",
    "    Args:\n",
    "        city: 도시의 이름\n",
    "        days: 날씨 예보 기간\n",
    "    \"\"\"\n",
    "    return f\"{city} 의  {days} 일간에 날씨는 매우 맑습니다.\"\n"
   ]
  },
  {
   "cell_type": "markdown",
   "metadata": {},
   "source": [
    "\n",
    "#### 4.3.2 생성된 tool 사용\n"
   ]
  },
  {
   "cell_type": "code",
   "execution_count": null,
   "metadata": {},
   "outputs": [],
   "source": [
    "# Agent tool 선언 \n",
    "tooluse_agent = Agent(\n",
    "    model=tooluse_bedrock_model,\n",
    "    tools=[weather_forecast]\n",
    ")\n",
    "\n",
    "# Agent실행 \n",
    "tooluse_agent(\"서울의 7일간에 날씨는?\")\n",
    "\n",
    "print(f\"\\n실행한 도구 이름: {tooluse_agent.tool_names}\")\n"
   ]
  },
  {
   "cell_type": "markdown",
   "metadata": {},
   "source": [
    "#### 4.3.3 난수발생 function들 생성"
   ]
  },
  {
   "cell_type": "code",
   "execution_count": null,
   "metadata": {},
   "outputs": [],
   "source": [
    "# 소숫점 발생 난수 발생 tool\n",
    "@tool\n",
    "def random_float(min_value: float = 0.0, max_value: float = 1.0, precision: int = 2) -> str:\n",
    "    \"\"\"지정된 범위에서 실수 난수를 생성합니다.\n",
    "\n",
    "    Args:\n",
    "        min_value: 최솟값\n",
    "        max_value: 최댓값\n",
    "        precision: 소수점 자릿수\n",
    "    \"\"\"\n",
    "    import random\n",
    "\n",
    "    result = round(random.uniform(min_value, max_value), precision)\n",
    "    return f\"{min_value}~{max_value} 범위에서 생성된 실수 난수: {result}\"\n",
    "\n",
    "# 문자열 난수 발생 tool\n",
    "@tool\n",
    "def random_string(length: int = 8, include_numbers: bool = True, include_symbols: bool = False) -> str:\n",
    "    \"\"\"랜덤 문자열을 생성합니다.\n",
    "\n",
    "    Args:\n",
    "        length: 문자열 길이\n",
    "        include_numbers: 숫자 포함 여부\n",
    "        include_symbols: 특수문자 포함 여부\n",
    "    \"\"\"\n",
    "    import random\n",
    "    import string\n",
    "\n",
    "    chars = string.ascii_letters\n",
    "    if include_numbers:\n",
    "        chars += string.digits\n",
    "    if include_symbols:\n",
    "        chars += \"!@#$%^&*\"\n",
    "\n",
    "    result = ''.join(random.choice(chars) for _ in range(length))\n",
    "    return f\"길이 {length}의 랜덤 문자열: {result}\"\n"
   ]
  },
  {
   "cell_type": "markdown",
   "metadata": {},
   "source": [
    "#### 4.3.4 생성된 tool들 사용\n"
   ]
  },
  {
   "cell_type": "code",
   "execution_count": null,
   "metadata": {},
   "outputs": [],
   "source": [
    "# Agent tool 선언 \n",
    "tooluse_agent = Agent(\n",
    "    model=tooluse_bedrock_model,\n",
    "    tools=[weather_forecast,random_float,random_string]\n",
    ")\n",
    "\n",
    "# Agent실행 \n",
    "tooluse_agent(\"1에서 10까지 난수를 만들어주고, 8문자의 숫자와 특수문자가 포함된 문자를 생성해줘!\")\n",
    "print(f\"\\n실행한 도구 이름: {tooluse_agent.tool_names}\")\n"
   ]
  },
  {
   "cell_type": "markdown",
   "metadata": {},
   "source": [
    "### 4.4 Direct tool 호출\n",
    "- Agent에게 어떤 tool을 사용할지 직접 제안하는 방식으로 대화기록에 포함하는 방식과 그렇지 않는 방식으로 호출이 가능함."
   ]
  },
  {
   "cell_type": "markdown",
   "metadata": {},
   "source": [
    "#### 4.4.1 대화 기록에 포함하면서 직접 도구 호출\n",
    "- 도구 실행의 결과를 대화기록에 포함하도록 실행함"
   ]
  },
  {
   "cell_type": "code",
   "execution_count": null,
   "metadata": {},
   "outputs": [],
   "source": [
    "from strands_tools import calculator\n",
    "\n",
    "tooluse_agent = Agent(\n",
    "    model=tooluse_bedrock_model,\n",
    "    tools=[calculator]\n",
    ")\n",
    "\n",
    "tooluse_agent.tool.calculator(expression=\"42 ^ 9\")\n",
    "\n",
    "print(f\"\\n실행한 도구 이름: {tooluse_agent.tool_names}\")\n",
    "print(f\"\\n대화기록: {tooluse_agent.messages}\")\n",
    "tooluse_agent(\"\\n계산한 결과값이 뭐지?\")\n"
   ]
  },
  {
   "cell_type": "markdown",
   "metadata": {},
   "source": [
    "#### 4.5.2 대화 기록에 포함 하지 않으면서 직접 도구 호출\n",
    "- 도구 실행의 결과를 대화기록에 포함하지 않도록 실행함"
   ]
  },
  {
   "cell_type": "code",
   "execution_count": null,
   "metadata": {},
   "outputs": [],
   "source": [
    "from strands_tools import calculator\n",
    "\n",
    "tooluse_agent = Agent(\n",
    "    model=tooluse_bedrock_model,\n",
    "    tools=[calculator]\n",
    ")\n",
    "\n",
    "tooluse_agent.tool.calculator(expression=\"42 ^ 9\" , record_direct_tool_call=False)\n",
    "\n",
    "print(f\"\\n실행한 도구 이름: {tooluse_agent.tool_names}\")\n",
    "print(f\"\\n대화기록: {tooluse_agent.messages}\")\n",
    "tooluse_agent(\"\\n계산한 결과값이 뭐지?\")\n"
   ]
  },
  {
   "cell_type": "markdown",
   "metadata": {},
   "source": [
    "---\n",
    "## 5. MCP tool \n",
    "- https://awslabs.github.io/mcp/servers/aws-documentation-mcp-server 참조"
   ]
  },
  {
   "cell_type": "markdown",
   "metadata": {},
   "source": [
    "### 5.1 MCP용 모델 선언"
   ]
  },
  {
   "cell_type": "code",
   "execution_count": null,
   "metadata": {},
   "outputs": [],
   "source": [
    "\n",
    "mcp_bedrock_model = BedrockModel(\n",
    "    model_id=base_model,\n",
    "    boto_session=session\n",
    ")"
   ]
  },
  {
   "cell_type": "markdown",
   "metadata": {},
   "source": [
    "### 5.2 Streamable HTTP 방식의 MCP서버"
   ]
  },
  {
   "cell_type": "markdown",
   "metadata": {},
   "source": [
    "#### 5.2.1 AWS 공식 문서 MCP 서버 연결  "
   ]
  },
  {
   "cell_type": "code",
   "execution_count": null,
   "metadata": {},
   "outputs": [],
   "source": [
    "from mcp.client.streamable_http import streamablehttp_client\n",
    "from strands.tools.mcp.mcp_client import MCPClient \n",
    "\n",
    "streamable_http_mcp_client = MCPClient(lambda: streamablehttp_client(\"https://knowledge-mcp.global.api.aws\"))\n"
   ]
  },
  {
   "cell_type": "markdown",
   "metadata": {},
   "source": [
    "#### 5.2.2 Agent 선언및 질의"
   ]
  },
  {
   "cell_type": "code",
   "execution_count": null,
   "metadata": {
    "collapsed": true,
    "jupyter": {
     "outputs_hidden": true
    },
    "scrolled": true
   },
   "outputs": [],
   "source": [
    "\n",
    "with streamable_http_mcp_client:\n",
    "    # Get the tools from the MCP server\n",
    "    tools = streamable_http_mcp_client.list_tools_sync()\n",
    "    \n",
    "    mcp_agent = Agent(model=mcp_bedrock_model,tools=tools)\n",
    "    mcp_agent(\"Amazon cognito가 무엇이야? 그리고 문서 URL위치도 알려줘!\")\n",
    "    "
   ]
  },
  {
   "cell_type": "markdown",
   "metadata": {},
   "source": [
    "## 6. 멀티 에이전트 - WorkFlow"
   ]
  },
  {
   "cell_type": "markdown",
   "metadata": {},
   "source": [
    "---\n",
    "### 6.1 WorkFlow"
   ]
  },
  {
   "cell_type": "markdown",
   "metadata": {},
   "source": [
    "#### 6.1.1 순서적으로 여러 에이전트 실행 \n",
    "```mermaid\n",
    "graph LR\n",
    "    A[조사 에이전트] --> B[분석 에이전트]\n",
    "    B --> C[보고서 에이전트]\n",
    "    \n",
    "    style A fill:#1a1a1a,stroke:#00ff00,stroke-width:2px,color:#ffffff\n",
    "    style B fill:#1a1a1a,stroke:#00ff00,stroke-width:2px,color:#ffffff\n",
    "    style C fill:#1a1a1a,stroke:#00ff00,stroke-width:2px,color:#ffffff\n",
    "```"
   ]
  },
  {
   "cell_type": "code",
   "execution_count": null,
   "metadata": {},
   "outputs": [],
   "source": [
    "\n",
    "# 전문가 에이전트들 생성 \n",
    "researcher_agent = Agent(system_prompt=\"당신은 연구 전문가입니다. 주요 정보를 찾아보세요.\", model=base_model, callback_handler=None)\n",
    "analyst_agent = Agent(system_prompt=\"연구 데이터를 분석하고 인사이트를 추출합니다.\",model=base_model, callback_handler=None)\n",
    "writer_agent = Agent(system_prompt=\"분석을 바탕으로 세련된 보고서를 작성합니다.\",model=base_model,callback_handler=None)\n",
    "\n",
    "topic = \"짜장면\"\n",
    "# Step 1: Research\n",
    "research_prompt=f\"{topic} 에 대한 최신 개발 사항 연구\"\n",
    "print(\"\\n [ 1. researcher agent 실행 중 ... ]\\n \")\n",
    "research_results = researcher_agent(research_prompt)\n",
    "\n",
    "# Step 2: Analysis\n",
    "analysis_prompt=f\"이 연구 결과를 분석하십시오: {research_results}\"\n",
    "print(\"\\n [ 2. analyst agent 실행 중 ... ]\\n \")\n",
    "analysis = analyst_agent(analysis_prompt)\n",
    "\n",
    "# Step 3: Report writing\n",
    "report_prompt=f\"이 분석을 바탕으로 보고서를 작성합니다: {analysis}\"\n",
    "print(\"\\n [ 3. writer agent 실행 중... ]\\n\")\n",
    "final_report = writer_agent(report_prompt)\n",
    "\n",
    "print(\"\\n -- 최종 보고서 --\\n\")\n",
    "print(final_report)"
   ]
  },
  {
   "cell_type": "markdown",
   "metadata": {},
   "source": [
    "---\n",
    "## 7. 멀티 에이전트 - Graph \n",
    "\n",
    "Graph 패턴의 동작 원리\n",
    "\n",
    "Graph 패턴은 체계적이고 예측 가능한 작업 흐름을 기반으로 합니다:\n",
    "\n",
    "🔹 Node: 각각의 작업자(에이전트)나 처리 단위를 의미합니다  \n",
    "🔹 Edge: 작업자들 사이의 순서와 정보 전달 경로를 나타냅니다   \n",
    "🔹 실행 순서: 의존 관계에 따라 자동으로 올바른 순서가 결정됩니다   \n",
    "🔹 정보 흐름: 앞 단계의 결과가 다음 단계의 재료가 됩니다   \n",
    "🔹 시작점(EntryPoint): 최초 요청을 받아서 전체 과정을 시작합니다"
   ]
  },
  {
   "cell_type": "markdown",
   "metadata": {},
   "source": [
    "### 7.1 짜장면 주문 예제로 구성"
   ]
  },
  {
   "cell_type": "markdown",
   "metadata": {},
   "source": [
    "```mermaid\n",
    " graph TD\n",
    "    Start[\"🍜 고객 주문 접수\"] --> MenuResearch[\"📋 메뉴 조사 에이전트<br/>menu_researcher<br/>고객 취향 분석 및<br/>최적 짜장면 추천\"]\n",
    "    \n",
    "    MenuResearch --> TasteAnalysis[\"👅 맛 분석 에이전트<br/>taste_analyst<br/>면발, 춘장, 토핑<br/>조화 분석\"]\n",
    "    \n",
    "    MenuResearch --> QualityCheck[\"✅ 품질 검증 에이전트<br/>quality_checker<br/>신선도 및 조리상태<br/>품질 확인\"]\n",
    "    \n",
    "    TasteAnalysis --> OrderWriter[\"📝 주문서 작성 에이전트<br/>order_writer<br/>완벽한 주문서<br/>최종 작성\"]\n",
    "    \n",
    "    QualityCheck --> OrderWriter\n",
    "    \n",
    "    OrderWriter --> Complete[\"🎉 짜장면 주문 완료!\"]\n",
    "    \n",
    "    %% 스타일링\n",
    "    classDef startEnd fill:#ff6b6b,stroke:#ffffff,stroke-width:2px,color:#ffffff\n",
    "    classDef agent fill:#1a1a1a,stroke:#00ff00,stroke-width:2px,color:#ffffff\n",
    "    classDef process fill:#4ecdc4,stroke:#ffffff,stroke-width:2px,color:#000000\n",
    "    \n",
    "    class Start,Complete startEnd\n",
    "    class MenuResearch,TasteAnalysis,QualityCheck,OrderWriter agent\n",
    "\n",
    "\n",
    "```"
   ]
  },
  {
   "cell_type": "markdown",
   "metadata": {},
   "source": [
    "#### 7.1.1 전문 에이전트 생성"
   ]
  },
  {
   "cell_type": "code",
   "execution_count": null,
   "metadata": {},
   "outputs": [],
   "source": [
    "import logging\n",
    "from strands.multiagent import GraphBuilder\n",
    "\n",
    "# 짜장면 주문 시스템 디버그 로그 활성화 🍜\n",
    "logging.getLogger(\"strands.multiagent\").setLevel(logging.DEBUG)\n",
    "logging.basicConfig(format=\"🍜 %(levelname)s | %(name)s | %(message)s\",\n",
    "                   handlers=[logging.StreamHandler()])\n",
    "\n",
    "# 짜장면 전문 에이전트들 생성 👨‍🍳\n",
    "menu_researcher = Agent(\n",
    "    name=\"menu_researcher\", \n",
    "    model=base_model,\n",
    "    system_prompt=\"당신은 짜장면 메뉴 전문가입니다. 고객 취향에 맞는 최적의 짜장면을 추천합니다...\"\n",
    ")\n",
    "\n",
    "taste_analyst = Agent(\n",
    "    name=\"taste_analyst\", \n",
    "    model=base_model,\n",
    "    system_prompt=\"당신은 짜장면 맛 분석 전문가입니다. 면발, 춘장, 토핑의 조화를 분석합니다...\"\n",
    ")\n",
    "\n",
    "quality_checker = Agent(\n",
    "    name=\"quality_checker\", \n",
    "    model=base_model,\n",
    "    system_prompt=\"당신은 짜장면 품질 검증 전문가입니다. 신선도와 조리 상태를 확인합니다...\"\n",
    ")\n",
    "\n",
    "order_writer = Agent(\n",
    "    name=\"order_writer\", \n",
    "    model=base_model,\n",
    "    system_prompt=\"당신은 짜장면 주문서 작성 전문가입니다. 완벽한 주문서를 작성합니다...\"\n",
    ")\n"
   ]
  },
  {
   "cell_type": "markdown",
   "metadata": {},
   "source": [
    "#### 7.1.2 Graph Node와 Edge 구성"
   ]
  },
  {
   "cell_type": "code",
   "execution_count": null,
   "metadata": {},
   "outputs": [],
   "source": [
    "\n",
    "# 짜장면 주문 워크플로우 구성 🏗️\n",
    "builder = GraphBuilder()\n",
    "\n",
    "# 각 단계별 노드 추가\n",
    "builder.add_node(menu_researcher, \"menu_research\")    # 메뉴 조사\n",
    "builder.add_node(taste_analyst, \"taste_analysis\")     # 맛 분석\n",
    "builder.add_node(quality_checker, \"quality_check\")    # 품질 검증\n",
    "builder.add_node(order_writer, \"order_writing\")       # 주문서 작성\n",
    "\n",
    "# 짜장면 주문 프로세스 흐름 설정 🔄\n",
    "builder.add_edge(\"menu_research\", \"taste_analysis\")   # 메뉴 조사 → 맛 분석\n",
    "builder.add_edge(\"menu_research\", \"quality_check\")    # 메뉴 조사 → 품질 검증\n",
    "builder.add_edge(\"taste_analysis\", \"order_writing\")   # 맛 분석 → 주문서 작성\n",
    "builder.add_edge(\"quality_check\", \"order_writing\")    # 품질 검증 → 주문서 작성\n"
   ]
  },
  {
   "cell_type": "markdown",
   "metadata": {},
   "source": [
    "#### 7.1.3 메뉴조사 시작"
   ]
  },
  {
   "cell_type": "code",
   "execution_count": null,
   "metadata": {},
   "outputs": [],
   "source": [
    "\n",
    "# 메뉴 조사부터 시작! 🚀\n",
    "builder.set_entry_point(\"menu_research\")\n",
    "\n",
    "# 짜장면 주문 시스템 완성! 🎯\n",
    "jjajangmyeon_system = builder.build()\n",
    "\n",
    "# 고객 주문 처리 실행 🍽️\n",
    "result = jjajangmyeon_system(\n",
    "    \"매운맛을 좋아하고 면발은 쫄깃한 걸 선호하는 고객을 위한 \"\n",
    "    \"최고의 짜장면을 추천하고 완벽한 주문서를 작성해주세요\"\n",
    ")\n",
    "\n",
    "# 주문 결과 확인 📋\n",
    "print(f\"\\n🍜 주문 상태: {result.status}\")\n",
    "print(f\"🔄 처리 순서: {[node.node_id for node in result.execution_order]}\")\n",
    "print(\"🎉 맛있는 짜장면 주문이 완료되었습니다!\")\n",
    "\n",
    "# 기존 Logging 레벨을 높임.\n",
    "logging.getLogger(\"strands.multiagent\").setLevel(logging.CRITICAL)\n"
   ]
  },
  {
   "cell_type": "markdown",
   "metadata": {},
   "source": [
    "#### 7.1.4 실행 결과 "
   ]
  },
  {
   "cell_type": "code",
   "execution_count": null,
   "metadata": {},
   "outputs": [],
   "source": [
    "\n",
    "# Check execution status\n",
    "print(f\"Status: {result.status}\")  # COMPLETED, FAILED, etc.\n",
    "\n",
    "# See which nodes were executed and in what order\n",
    "for node in result.execution_order:\n",
    "    print(f\"Executed: {node.node_id}\")\n",
    "\n",
    "# Get results from specific nodes\n",
    "taste_analysis_result = result.results[\"taste_analysis\"].result\n",
    "print(f\"taste_analysis: {taste_analysis_result}\")\n",
    "\n",
    "# Get performance metrics\n",
    "print(f\"Total nodes: {result.total_nodes}\")\n",
    "print(f\"Completed nodes: {result.completed_nodes}\")\n",
    "print(f\"Failed nodes: {result.failed_nodes}\")\n",
    "print(f\"Execution time: {result.execution_time}ms\")\n",
    "print(f\"Token usage: {result.accumulated_usage}\")"
   ]
  },
  {
   "cell_type": "markdown",
   "metadata": {},
   "source": [
    "### 7.2 조건부 Edge 추가 \n",
    "- 조건을 추가해서 분기하도록 선언"
   ]
  },
  {
   "cell_type": "markdown",
   "metadata": {},
   "source": [
    "```mermaid\n",
    "graph TD\n",
    "    Start[\"🍜 고객 주문 접수\"] --> MenuResearch[\"📋 메뉴 조사 에이전트<br/>menu_researcher<br/>고객 취향 분석 및<br/>최적 짜장면 추천\"]\n",
    "    \n",
    "    MenuResearch -->|\"재고 확인\"| StockCheck{{\"📦 재고 확인<br/>only_if_menu_available\"}}\n",
    "    \n",
    "    StockCheck -->|\"재고 있음\"| TasteAnalysis[\"👅 맛 분석 에이전트<br/>taste_analyst<br/>면발, 춘장, 토핑<br/>조화 분석\"]\n",
    "    \n",
    "    StockCheck -->|\"재고 없음\"| OutOfStock[\"❌ 재고 부족<br/>다른 메뉴 추천\"]\n",
    "    \n",
    "    MenuResearch --> QualityCheck[\"✅ 품질 검증 에이전트<br/>quality_checker<br/>신선도 및 조리상태<br/>품질 확인\"]\n",
    "    \n",
    "    TasteAnalysis --> OrderWriter[\"📝 주문서 작성 에이전트<br/>order_writer<br/>완벽한 주문서<br/>최종 작성\"]\n",
    "    \n",
    "    QualityCheck --> OrderWriter\n",
    "    \n",
    "    OrderWriter --> Complete[\"🎉 짜장면 주문 완료!\"]\n",
    "    \n",
    "    %% 스타일링\n",
    "    classDef startEnd fill:#ff6b6b,stroke:#ffffff,stroke-width:2px,color:#ffffff\n",
    "    classDef agent fill:#1a1a1a,stroke:#00ff00,stroke-width:2px,color:#ffffff\n",
    "    classDef condition fill:#ffd93d,stroke:#ffffff,stroke-width:2px,color:#000000\n",
    "    classDef failure fill:#ff6b6b,stroke:#ffffff,stroke-width:2px,color:#ffffff\n",
    "    \n",
    "    class Start,Complete startEnd\n",
    "    class MenuResearch,TasteAnalysis,QualityCheck,OrderWriter agent\n",
    "    class StockCheck condition\n",
    "    class OutOfStock failure\n",
    "\n",
    "```"
   ]
  },
  {
   "cell_type": "code",
   "execution_count": null,
   "metadata": {},
   "outputs": [],
   "source": [
    "def only_if_menu_available(state):\n",
    "    \"\"\"메뉴가 재고 있을 때만 다음 단계로 진행합니다.\"\"\"\n",
    "    menu_node = state.results.get(\"menu_research\")\n",
    "    if not menu_node:\n",
    "        return False\n",
    "    \n",
    "    # 메뉴 조사 결과에서 재고 확인 지표를 체크\n",
    "    result_text = str(menu_node.result)\n",
    "    return \"재고있음\" in result_text or \"available\" in result_text.lower()\n",
    "\n",
    "# 조건부 엣지 추가 - 메뉴 재고가 있을 때만 맛 분석 진행\n",
    "builder.add_edge(\"menu_research\", \"taste_analysis\", condition=only_if_menu_available)\n"
   ]
  },
  {
   "cell_type": "markdown",
   "metadata": {},
   "source": [
    "### 7.3 Graphs as a Tool 을 이용한 Dynamic 방식의 Agent들 실행"
   ]
  },
  {
   "cell_type": "code",
   "execution_count": null,
   "metadata": {},
   "outputs": [],
   "source": [
    "from strands_tools import graph\n",
    "\n",
    "# 짜장면 R&D 시스템\n",
    "jjajangmyeon_rnd = Agent(\n",
    "    tools=[graph],\n",
    "    model=base_model,\n",
    "    system_prompt=\"짜장면 연구개발을 위한 체계적인 에이전트 워크플로우를 구축합니다.\"\n",
    ")\n",
    "\n",
    "jjajangmyeon_rnd(\n",
    "    \"고객 만족도 95% 이상의 프리미엄 짜장면을 개발하고, \"\n",
    "    \"재료 조달부터 최종 서빙까지의 완전한 프로세스를 설계해주세요\"\n",
    ")"
   ]
  }
 ],
 "metadata": {
  "kernelspec": {
   "display_name": "Python 3",
   "language": "python",
   "name": "python3"
  },
  "language_info": {
   "codemirror_mode": {
    "name": "ipython",
    "version": 3
   },
   "file_extension": ".py",
   "mimetype": "text/x-python",
   "name": "python",
   "nbconvert_exporter": "python",
   "pygments_lexer": "ipython3",
   "version": "3.13.3"
  }
 },
 "nbformat": 4,
 "nbformat_minor": 4
}
