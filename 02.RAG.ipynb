{
 "cells": [
  {
   "cell_type": "markdown",
   "id": "a2d7efbe",
   "metadata": {},
   "source": [
    "# RAG 관련 테스트 프로그램 \n",
    "\n",
    "## 1. 기본 프로그램 선언"
   ]
  },
  {
   "cell_type": "markdown",
   "id": "d276df75",
   "metadata": {},
   "source": [
    "### 1.1 관련 패키지 설치"
   ]
  },
  {
   "cell_type": "code",
   "execution_count": null,
   "id": "5580a0cc-7c9a-4f87-b528-82fba2f73bba",
   "metadata": {
    "execution": {
     "iopub.execute_input": "2025-09-29T03:20:34.432916Z",
     "iopub.status.busy": "2025-09-29T03:20:34.432651Z",
     "iopub.status.idle": "2025-09-29T03:20:42.078454Z",
     "shell.execute_reply": "2025-09-29T03:20:42.077007Z",
     "shell.execute_reply.started": "2025-09-29T03:20:34.432895Z"
    }
   },
   "outputs": [],
   "source": [
    "! pip install  --upgrade langchain-aws langchain-community boto3 > /dev/null 2>&1\n",
    "! pip list | egrep 'boto3|langchain' "
   ]
  },
  {
   "cell_type": "markdown",
   "id": "3417a2df",
   "metadata": {},
   "source": [
    "### 1.2 프로그램 진행관련 초기 선언"
   ]
  },
  {
   "cell_type": "code",
   "execution_count": null,
   "id": "c5e32231-e453-40e1-8b44-933f4ac18c36",
   "metadata": {
    "execution": {
     "iopub.execute_input": "2025-09-29T03:42:07.006135Z",
     "iopub.status.busy": "2025-09-29T03:42:07.005846Z",
     "iopub.status.idle": "2025-09-29T03:42:07.232089Z",
     "shell.execute_reply": "2025-09-29T03:42:07.231362Z",
     "shell.execute_reply.started": "2025-09-29T03:42:07.006111Z"
    }
   },
   "outputs": [],
   "source": [
    "\n",
    "import boto3\n",
    "import time\n",
    "from langchain_aws import BedrockEmbeddings  # Embedding 을 위한\n",
    "from langchain_aws import BedrockLLM  # LLM을 위한\n",
    "from langchain_aws import ChatBedrock\n",
    "from langchain_community.vectorstores import FAISS  # 인메모리용 백터 저장소\n",
    "from langchain_community.document_loaders import CSVLoader\n",
    "from langchain.text_splitter import CharacterTextSplitter\n",
    "from langchain.indexes.vectorstore import VectorStoreIndexWrapper\n",
    "# from langchain_community.vectorstores import OpenSearchVectorSearch\n",
    "\n",
    "# from langchain.document_loaders import TextLoader\n",
    "from langchain_community.document_loaders import TextLoader\n",
    "\n",
    "      \n",
    "# AWS 자격 증명 확인\n",
    "try:\n",
    "    session = boto3.Session()\n",
    "    credentials = session.get_credentials()\n",
    "    print(\"AWS 자격 증명 확인 완료\")\n",
    "    print(f\"리전: {session.region_name}\")\n",
    "except Exception as e:\n",
    "    print(f\"AWS 자격 증명 오류: {e}\")\n",
    "    print(\"AWS CLI를 사용하여 자격 증명을 설정해주세요: aws configure\")\n",
    "\n",
    "# Bedrock 클라이언트 생성 \n",
    "bedrock = session.client('bedrock-runtime')\n",
    "bedrock2 = session.client('bedrock')\n",
    "\n",
    "# 현재 리전 확인\n",
    "current_region = boto3.Session().region_name\n",
    "\n",
    "# 현재 리전에 맞는 Model ID 자동 검색\n",
    "models = bedrock2.list_foundation_models()['modelSummaries']\n",
    "\n",
    "base_model=\"\"\n",
    "titan_model=\"\"\n",
    "\n",
    "# 버지니아 리전인 경우 Cross-region inference 사용\n",
    "if current_region == 'us-east-1':\n",
    "    base_model = \"us.anthropic.claude-3-5-haiku-20241022-v1:0\"\n",
    "else:\n",
    "    find_models = next((m for m in models if 'claude-3-5-haiku' in m['modelId'].lower()), None)\n",
    "    base_model = find_models['modelId']\n",
    "\n",
    "# 버지니아 리전인 경우 Cross-region inference 사용\n",
    "if current_region == 'us-east-1':\n",
    "    titan_model = \"amazon.titan-embed-text-v2:0\"\n",
    "else:\n",
    "    find_models = next((m for m in models if 'titan-embed-text-v2' in m['modelId'].lower()), None)\n",
    "    titan_model = find_models['modelId']\n",
    "\n",
    "titan_model = \"amazon.titan-embed-text-v2:0\"\n",
    "print(\"[Model ID] claude-3-5-haiku :\", base_model)\n",
    "print(\"[Model ID] titan-embed-text:\", titan_model)\n",
    "print(\"[Current Region]:\", current_region)\n"
   ]
  },
  {
   "cell_type": "markdown",
   "id": "c94c9290-1d01-4918-bcb1-b2f1b8fd7168",
   "metadata": {},
   "source": [
    "## 2. 문서 로드 \n",
    "- 인메모리 벡터 데이터 베이스에 저장한 데이터를 읽어옴 "
   ]
  },
  {
   "cell_type": "code",
   "execution_count": null,
   "id": "bbb383bc-9a52-4f40-935e-7df50c911bc8",
   "metadata": {
    "execution": {
     "iopub.execute_input": "2025-09-29T03:31:05.362115Z",
     "iopub.status.busy": "2025-09-29T03:31:05.361818Z",
     "iopub.status.idle": "2025-09-29T03:31:05.369431Z",
     "shell.execute_reply": "2025-09-29T03:31:05.368619Z",
     "shell.execute_reply.started": "2025-09-29T03:31:05.362089Z"
    }
   },
   "outputs": [],
   "source": [
    "loader = CSVLoader(\"ko.Amazon_SageMaker_FAQs.csv\" )  # CSV 형식은 ROW 단위로 Document 를 읽어 드림.\n",
    "documents = loader.load()\n",
    "print(f\"documents:loaded:size={len(documents)}\") "
   ]
  },
  {
   "cell_type": "markdown",
   "id": "43d0adf7-12a4-4afc-933b-6c5d8145f936",
   "metadata": {},
   "source": [
    "## 3. 문서 분할\n",
    "- 인메모리 벡터 데이터베이스에 저장할 문서를 Chunk 단위로 나눔, "
   ]
  },
  {
   "cell_type": "code",
   "execution_count": null,
   "id": "312f1349-ae53-4866-b3c6-57e624e1f8b1",
   "metadata": {
    "execution": {
     "iopub.execute_input": "2025-09-29T03:31:59.084044Z",
     "iopub.status.busy": "2025-09-29T03:31:59.083404Z",
     "iopub.status.idle": "2025-09-29T03:31:59.090298Z",
     "shell.execute_reply": "2025-09-29T03:31:59.089590Z",
     "shell.execute_reply.started": "2025-09-29T03:31:59.084012Z"
    }
   },
   "outputs": [],
   "source": [
    "text_splitter = CharacterTextSplitter(\n",
    "        chunk_size=2000,\n",
    "        chunk_overlap=400,\n",
    "        separator=\",\",  # chunk size 에 따라 검색되는 문장이 달라짐.\n",
    "    )\n",
    "docs = text_splitter.split_documents(documents)\n",
    "print(f\"Documents: split이후 and chunking size={len(docs)}\")"
   ]
  },
  {
   "cell_type": "markdown",
   "id": "b1bc10c8-2f51-4559-80e9-ed0a68c85918",
   "metadata": {},
   "source": [
    "## 3. Bedrock titan 모델을 임베딩 모델로 선언"
   ]
  },
  {
   "cell_type": "code",
   "execution_count": null,
   "id": "f7a9401c-1c33-4055-b805-d6e215ca8af2",
   "metadata": {
    "execution": {
     "iopub.execute_input": "2025-09-29T03:44:17.988950Z",
     "iopub.status.busy": "2025-09-29T03:44:17.988685Z",
     "iopub.status.idle": "2025-09-29T03:44:17.995233Z",
     "shell.execute_reply": "2025-09-29T03:44:17.994314Z",
     "shell.execute_reply.started": "2025-09-29T03:44:17.988930Z"
    },
    "vscode": {
     "languageId": "plaintext"
    }
   },
   "outputs": [],
   "source": [
    "embeddings = BedrockEmbeddings( model_id=titan_model )"
   ]
  },
  {
   "cell_type": "markdown",
   "id": "8db55e0c-8dc1-4942-b6ae-122c765701de",
   "metadata": {
    "execution": {
     "iopub.execute_input": "2025-09-29T03:47:32.140680Z",
     "iopub.status.busy": "2025-09-29T03:47:32.140385Z",
     "iopub.status.idle": "2025-09-29T03:47:32.143517Z",
     "shell.execute_reply": "2025-09-29T03:47:32.142868Z",
     "shell.execute_reply.started": "2025-09-29T03:47:32.140660Z"
    }
   },
   "source": [
    "## 4.Test 문자를 임베딩 해보기 \n",
    "- text 변수에 선언된 임시 문장을 벡터로 변환해 봅니다. "
   ]
  },
  {
   "cell_type": "code",
   "execution_count": null,
   "id": "2cfacf69-e4f4-4f23-854e-ece085ed4101",
   "metadata": {
    "execution": {
     "iopub.execute_input": "2025-09-29T03:47:18.914762Z",
     "iopub.status.busy": "2025-09-29T03:47:18.914430Z",
     "iopub.status.idle": "2025-09-29T03:47:19.008773Z",
     "shell.execute_reply": "2025-09-29T03:47:19.008011Z",
     "shell.execute_reply.started": "2025-09-29T03:47:18.914733Z"
    }
   },
   "outputs": [],
   "source": [
    "text = \"This is a sample text for embedding.\"\n",
    "text_splitter = CharacterTextSplitter(\n",
    "    chunk_size=100, chunk_overlap=40, separator=\"\\n\"\n",
    ")\n",
    "\n",
    "chunks = text_splitter.split_text(text)\n",
    "embedded_text = embeddings.embed_query(chunks[0])\n",
    "print(chunks[0])\n",
    "print(f\"Embedding dimension:  {len(embedded_text)}\")   # 백터에 차원 표시\n",
    "print(f\"Embedding vector: {embedded_text[:10]}...\")    # 베터값중에 10개 까지만 출력"
   ]
  },
  {
   "cell_type": "markdown",
   "id": "3ab2cbf3-33e9-410f-b1bb-54e4ca55e3dc",
   "metadata": {},
   "source": [
    "## 5. 백터 저장소(FAISS) 에 백터 데이터와 임베딩 값을 함께 저장한다.\n",
    "- 현재 시스템의 일부 메모리 장소를 백터 데이터 저장소로 사용하는 FAISS 기능을 사용"
   ]
  },
  {
   "cell_type": "code",
   "execution_count": null,
   "id": "71cff581-3e61-46bd-8846-bc8d1329e483",
   "metadata": {
    "execution": {
     "iopub.execute_input": "2025-09-29T03:51:06.213689Z",
     "iopub.status.busy": "2025-09-29T03:51:06.213325Z",
     "iopub.status.idle": "2025-09-29T03:52:39.669377Z",
     "shell.execute_reply": "2025-09-29T03:52:39.668468Z",
     "shell.execute_reply.started": "2025-09-29T03:51:06.213661Z"
    }
   },
   "outputs": [],
   "source": [
    "vectorstore_faiss_aws = None\n",
    "try:\n",
    "\n",
    "    vectorstore_faiss_aws = FAISS.from_documents(\n",
    "        documents=docs,\n",
    "        embedding=embeddings,\n",
    "    )\n",
    "\n",
    "except ValueError as error:\n",
    "    if \"AccessDeniedException\" in str(error):\n",
    "        print(\n",
    "            f\"\\x1b[41m{error}\\\n",
    "        \\nTo troubeshoot this issue please refer to the following resources.\\\n",
    "        \\nhttps://docs.aws.amazon.com/IAM/latest/UserGuide/troubleshoot_access-denied.html\\\n",
    "        \\nhttps://docs.aws.amazon.com/bedrock/latest/userguide/security-iam.html\\x1b[0m\\n\"\n",
    "        )\n",
    "\n",
    "        class StopExecution(ValueError):\n",
    "            def _render_traceback_(self):\n",
    "                pass\n",
    "        raise StopExecution\n",
    "    else:\n",
    "        raise error"
   ]
  },
  {
   "cell_type": "markdown",
   "id": "ecf82fd3",
   "metadata": {},
   "source": [
    "## 6. 벡터를 이용하여 질의해 본다."
   ]
  },
  {
   "cell_type": "markdown",
   "id": "5ddc3e15-0cc9-416f-a4b4-0a3d138143ed",
   "metadata": {},
   "source": [
    "### 6.1 질문 정의\n",
    "- 백터를 검색할 때 사용한 질문을 선언한다. \n",
    "- 현재 벡터에 있는 데이터는 Smazon Sagemaker관련한 CSV 파일이 저장되어 있어서 관련된 'Sagemaker\" 질문을 한다."
   ]
  },
  {
   "cell_type": "code",
   "execution_count": null,
   "id": "576fb778-99c0-4700-b24e-73954bee9037",
   "metadata": {
    "execution": {
     "iopub.execute_input": "2025-09-29T03:52:58.174301Z",
     "iopub.status.busy": "2025-09-29T03:52:58.174023Z",
     "iopub.status.idle": "2025-09-29T03:52:58.177244Z",
     "shell.execute_reply": "2025-09-29T03:52:58.176546Z",
     "shell.execute_reply.started": "2025-09-29T03:52:58.174280Z"
    }
   },
   "outputs": [],
   "source": [
    "query = \"세이지메이커 모델카드는 무엇인가?\""
   ]
  },
  {
   "cell_type": "markdown",
   "id": "6d735d7d-74fb-46a4-888b-de456167a7c0",
   "metadata": {
    "execution": {
     "iopub.execute_input": "2025-09-29T03:52:58.174301Z",
     "iopub.status.busy": "2025-09-29T03:52:58.174023Z",
     "iopub.status.idle": "2025-09-29T03:52:58.177244Z",
     "shell.execute_reply": "2025-09-29T03:52:58.176546Z",
     "shell.execute_reply.started": "2025-09-29T03:52:58.174280Z"
    }
   },
   "source": [
    "### 6.2 벡터 저장소에서 직접 질의 \n",
    "- 벡터에 '질문' 을 요청하면서 질문과 유사한 데이터를 검색하도록 한다.\n",
    "- k 값은 유사한 검색을 했들 때 얻는 데이터 수를 뜻함. "
   ]
  },
  {
   "cell_type": "code",
   "execution_count": null,
   "id": "0438af70-0dc8-402c-97f1-70a5d4a04c02",
   "metadata": {},
   "outputs": [],
   "source": [
    "print(query)\n",
    "results = vectorstore_faiss_aws.similarity_search( query, k=1 )   \n",
    "\n",
    "# 검색된 문장들 출력 (K 값에 따라 문장들의 갯수가 다를수 있음 )\n",
    "for doc in results:\n",
    "        print(doc.page_content)"
   ]
  },
  {
   "cell_type": "markdown",
   "id": "383afb3a-c62b-4fb3-8fa3-388d5104ee86",
   "metadata": {
    "execution": {
     "iopub.execute_input": "2025-09-29T03:54:25.237571Z",
     "iopub.status.busy": "2025-09-29T03:54:25.237286Z",
     "iopub.status.idle": "2025-09-29T03:54:25.334168Z",
     "shell.execute_reply": "2025-09-29T03:54:25.333361Z",
     "shell.execute_reply.started": "2025-09-29T03:54:25.237549Z"
    }
   },
   "source": [
    "### 6.2 질문을 벡터로 변환하여 검색\n",
    "- 벡터 저장소에서 질의를 하는데 질문과 유사한 데이터 4개를 찾을때 벡터 값으로 찾는다.\n",
    "- 따라서 질의 하기전 Amazon Tital 모델에게 질문을 벡터 값으로 변환하도록 한다. "
   ]
  },
  {
   "cell_type": "code",
   "execution_count": null,
   "id": "d14f1e0e-67c5-4813-9929-db7a5174d341",
   "metadata": {},
   "outputs": [],
   "source": [
    "print(query)\n",
    "\n",
    "# Amazon Titan Embede text 모델에게 질문을 벡터로 변환할 것을 요청 \n",
    "query_vector = embeddings.embed_query(query)\n",
    "\n",
    "# 변환된 벡터로 벡터 저장소에서 검색하도록 함. \n",
    "results = vectorstore_faiss_aws.similarity_search_by_vector(query_vector, k=4)\n",
    "for doc in results:\n",
    "    print(doc.page_content)"
   ]
  },
  {
   "cell_type": "markdown",
   "id": "35955e08",
   "metadata": {},
   "source": [
    "## 7. RAG(Retrieval-Augmented Generation) 패턴 구현\n",
    "• 과정:\n",
    "  1. query로 벡터스토어에서 관련 문서 검색\n",
    "  2. 검색된 문서를 컨텍스트로 LLM에 전달\n",
    "  3. LLM이 컨텍스트 기반으로 답변 생성"
   ]
  },
  {
   "cell_type": "code",
   "execution_count": null,
   "id": "c67b00dc-b2f9-4d1d-8c47-a64395cf3bb9",
   "metadata": {},
   "outputs": [],
   "source": [
    "chat_llm = ChatBedrock(model_id=base_model, client=bedrock\n",
    "    )\n",
    "wrapper_store_faiss = VectorStoreIndexWrapper(vectorstore=vectorstore_faiss_aws)\n",
    "print(wrapper_store_faiss.query(query, llm=chat_llm))\n"
   ]
  }
 ],
 "metadata": {
  "kernelspec": {
   "display_name": "Python 3 (ipykernel)",
   "language": "python",
   "name": "python3"
  },
  "language_info": {
   "codemirror_mode": {
    "name": "ipython",
    "version": 3
   },
   "file_extension": ".py",
   "mimetype": "text/x-python",
   "name": "python",
   "nbconvert_exporter": "python",
   "pygments_lexer": "ipython3",
   "version": "3.12.9"
  }
 },
 "nbformat": 4,
 "nbformat_minor": 5
}
